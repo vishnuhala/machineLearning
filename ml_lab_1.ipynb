{
  "cells": [
    {
      "cell_type": "code",
      "execution_count": 1,
      "metadata": {
        "colab": {
          "base_uri": "https://localhost:8080/"
        },
        "id": "dQV0OPZVCKff",
        "outputId": "7e2fe93f-6c96-4d71-864c-229d05dddcad"
      },
      "outputs": [
        {
          "name": "stdout",
          "output_type": "stream",
          "text": [
            "give any string: vishnu\n",
            "number of vowels are 2\n",
            "number of consonants are 4\n"
          ]
        }
      ],
      "source": [
        "vowels = ['a','e','i','o','u']\n",
        "text = input(\"give any string: \")\n",
        "v,c=0,0\n",
        "for i in text:\n",
        "    if i in vowels:\n",
        "        v+=1\n",
        "    else:\n",
        "        c+=1\n",
        "print(\"number of vowels are \"+str(v))\n",
        "print(\"number of consonants are \"+str(c))"
      ]
    },
    {
      "cell_type": "code",
      "execution_count": 4,
      "metadata": {
        "colab": {
          "base_uri": "https://localhost:8080/"
        },
        "id": "tubVZFIWDY8t",
        "outputId": "a7e8e2ae-0a1c-4c15-c9af-6a0c690d72c0"
      },
      "outputs": [
        {
          "name": "stdout",
          "output_type": "stream",
          "text": [
            "Enter number of rows of matrix1: 2\n",
            "Enter number of cols of matrix1: 2\n",
            "Enter element for matrix1[0][0]: 1\n",
            "Enter element for matrix1[0][1]: 2\n",
            "Enter element for matrix1[1][0]: 3\n",
            "Enter element for matrix1[1][1]: 4\n",
            "Enter number of rows of matrix2: 2\n",
            "Enter number of cols of matrix2: 2\n",
            "Enter element for matrix2[0][0]: 2\n",
            "Enter element for matrix2[0][1]: 3\n",
            "Enter element for matrix2[1][0]: 4\n",
            "Enter element for matrix2[1][1]: 1\n",
            "Resultant Matrix:\n",
            "[10, 5]\n",
            "[22, 13]\n"
          ]
        }
      ],
      "source": [
        "\n",
        "rows_matrix1 = int(input(\"Enter number of rows of matrix1: \"))\n",
        "cols_matrix1 = int(input(\"Enter number of cols of matrix1: \"))\n",
        "matrix1 = [[int(input(f\"Enter element for matrix1[{i}][{j}]: \")) for j in range(cols_matrix1)] for i in range(rows_matrix1)]\n",
        "\n",
        "\n",
        "rows_matrix2 = int(input(\"Enter number of rows of matrix2: \"))\n",
        "cols_matrix2 = int(input(\"Enter number of cols of matrix2: \"))\n",
        "matrix2 = [[int(input(f\"Enter element for matrix2[{i}][{j}]: \")) for j in range(cols_matrix2)] for i in range(rows_matrix2)]\n",
        "\n",
        "\n",
        "if cols_matrix1 == rows_matrix2:\n",
        "\n",
        "    result_matrix = [[sum(a*b for a, b in zip(matrix1_row, matrix2_col)) for matrix2_col in zip(*matrix2)] for matrix1_row in matrix1]\n",
        "    \n",
        "    print(\"Resultant Matrix:\")\n",
        "    for row in result_matrix:\n",
        "        print(row)\n",
        "else:\n",
        "    print(\"I AM SORRY BUT YOU CAN NOT MULTIPLY THOSE MATRICES\")\n"
      ]
    },
    {
      "cell_type": "code",
      "execution_count": 6,
      "metadata": {
        "colab": {
          "base_uri": "https://localhost:8080/"
        },
        "id": "FJ0sY7_gD1qR",
        "outputId": "82f62110-d6fa-46a8-824e-869f42347f37"
      },
      "outputs": [
        {
          "name": "stdout",
          "output_type": "stream",
          "text": [
            "number of elements in list 1: 3\n",
            "12\n",
            "1\n",
            "2\n",
            "number of elements in list 2: 3\n",
            "12\n",
            "23\n",
            "32\n",
            "Number of common elements are 1\n"
          ]
        }
      ],
      "source": [
        "n1 = int(input(\"number of elements in list 1: \"))\n",
        "l1=[]\n",
        "for i in range(n1):\n",
        "    a=input()\n",
        "    l1.append(a)\n",
        "\n",
        "c=0\n",
        "n2 = int(input(\"number of elements in list 2: \"))\n",
        "l2=[]\n",
        "for i in range(n2):\n",
        "    a=input()\n",
        "    l2.append(a)\n",
        "\n",
        "for i in l1:\n",
        "    if i in l2:\n",
        "        c+=1\n",
        "print(\"Number of common elements are\", c)"
      ]
    },
    {
      "cell_type": "code",
      "execution_count": 10,
      "metadata": {
        "colab": {
          "base_uri": "https://localhost:8080/"
        },
        "id": "3spBqClVEPAt",
        "outputId": "ceca894f-9d26-4f47-ea5e-e88ae98b52ea"
      },
      "outputs": [
        {
          "name": "stdout",
          "output_type": "stream",
          "text": [
            "Enter number of rows of matrix12\n",
            "Enter number of cols of matrix12\n",
            "1\n",
            "2\n",
            "3\n",
            "4\n",
            "[[1, 3], [2, 4]]\n"
          ]
        }
      ],
      "source": [
        "R1 = int(input(\"Enter number of rows of matrix1\"))\n",
        "C1 = int(input(\"Enter number of cols of matrix1\"))\n",
        "A = [[int(input()) for x in range (C1)] for y in range(R1)]\n",
        "t = [list(r) for r in zip(*A)]\n",
        "print(t)\n"
      ]
    }
  ],
  "metadata": {
    "colab": {
      "provenance": []
    },
    "kernelspec": {
      "display_name": "Python 3",
      "name": "python3"
    },
    "language_info": {
      "name": "python"
    }
  },
  "nbformat": 4,
  "nbformat_minor": 0
}
